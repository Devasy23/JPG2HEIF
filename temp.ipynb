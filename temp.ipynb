{
 "cells": [
  {
   "cell_type": "code",
   "execution_count": 8,
   "metadata": {},
   "outputs": [],
   "source": [
    "import cv2\n",
    "import pillow_heif\n",
    "\n",
    "cv_img = cv2.imread(\"temp.jpg\", cv2.IMREAD_UNCHANGED)\n",
    "heif_file = pillow_heif.from_bytes(\n",
    "    mode=\"BGR\",\n",
    "    size=(cv_img.shape[1], cv_img.shape[0]),\n",
    "    data=bytes(cv_img)\n",
    ")\n",
    "heif_file.save(\"RGBA_10bit.heif\", format=\"HEIF\")"
   ]
  }
 ],
 "metadata": {
  "kernelspec": {
   "display_name": "Python 3",
   "language": "python",
   "name": "python3"
  },
  "language_info": {
   "codemirror_mode": {
    "name": "ipython",
    "version": 3
   },
   "file_extension": ".py",
   "mimetype": "text/x-python",
   "name": "python",
   "nbconvert_exporter": "python",
   "pygments_lexer": "ipython3",
   "version": "3.10.5"
  }
 },
 "nbformat": 4,
 "nbformat_minor": 2
}
